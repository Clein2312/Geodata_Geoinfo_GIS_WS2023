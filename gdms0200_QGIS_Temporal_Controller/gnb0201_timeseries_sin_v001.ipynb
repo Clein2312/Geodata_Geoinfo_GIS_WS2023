{
 "cells": [
  {
   "cell_type": "markdown",
   "id": "894ccaef-0f94-4790-a235-f10cd76189a8",
   "metadata": {},
   "source": [
    "# Generate Time Series CSV to be Merged in QGIS with a Point Layer.\n",
    "\n",
    "In QGIS we created a point layer representing environmental measurement stations named `my_stations`. One of the point layer attributes is named `info`. In fact it contains the station id, i.e. \"S01\", \"S02\", \"S03\", etc. \n",
    "\n",
    "In this notebook sinusoidal time series are created as test data. The goal is to learn how to use the temporal manager in QGIS. The time series data must be provided in a 1:N relation, i.e. with the relation schema (station_id (sid), timestamp (ts), value (val)). In this notebook the relation is named `df_long` and exported as `ts_sin.csv` (time series sinusoidal). \n",
    "\n",
    "This csv file is to be imported in QGIS as delimited text file without coordinate into, i.e. just a table. The relations `my_stations` and `ts_sin` are then joined with the condition `ts_sin(sid) == my_stations(info)`.\n",
    "\n",
    "The resulting new point layer in QGIS looks in principle (but not exactly) like:\n",
    "\n",
    "| sid | name |  ts | val |  lat | lon |\n",
    "|-----------:|---:|-----------:|-----------:|-----:|----:|\n",
    "|         S01 | Duisburg | 1980-01-01 |       12.3 | 51.2 | 7.0 |\n",
    "|         S01 | Duisburg | 1981-01-01 |       11.3 | 51.2 | 7.0 |\n",
    "|         S01 | Duisburg | 1982-01-01 |       11.7 | 51.2 | 7.0 |\n",
    "|        ... |        ... |        ... |  ... | ... |\n",
    "|         S10 | Herne | 1980-01-01 |       13.5 | 50.7 | 6.5 |\n",
    "|         S10 | Herne | 1981-01-01 |       12.7 | 50.7 | 6.5 |\n",
    "|         S10 | Herne | 1982-01-01 |       13.1 | 50.7 | 6.5 |\n",
    "|        ... |        ... |        ... |  ... | ... |\n",
    "\n",
    "**Result: Many points are plotted on top of each other! There are several \"Duisburg\" point snow with different values.** "
   ]
  },
  {
   "cell_type": "code",
   "execution_count": 1,
   "id": "7728ea6e-a03a-4047-bfb8-1f5d0231e655",
   "metadata": {},
   "outputs": [],
   "source": [
    "import numpy as np\n",
    "import pandas as pd\n",
    "import matplotlib.pyplot as plt"
   ]
  },
  {
   "cell_type": "code",
   "execution_count": 2,
   "id": "e52f5855-e7b6-4679-bb2b-a9fcefc5bae1",
   "metadata": {},
   "outputs": [],
   "source": [
    "dr = pd.date_range(\"2022-03-01T00:00:00\", \n",
    "                   \"2022-03-03T00:00:00\",\n",
    "                   freq=\"h\",\n",
    "                   tz=\"UTC\",\n",
    "                   inclusive=\"both\")"
   ]
  },
  {
   "cell_type": "code",
   "execution_count": 3,
   "id": "7273107c-2709-43fa-8b39-335706f678b5",
   "metadata": {},
   "outputs": [
    {
     "data": {
      "text/plain": [
       "Int64Index([ 0,  1,  2,  3,  4,  5,  6,  7,  8,  9, 10, 11, 12, 13, 14, 15, 16,\n",
       "            17, 18, 19, 20, 21, 22, 23,  0,  1,  2,  3,  4,  5,  6,  7,  8,  9,\n",
       "            10, 11, 12, 13, 14, 15, 16, 17, 18, 19, 20, 21, 22, 23,  0],\n",
       "           dtype='int64')"
      ]
     },
     "execution_count": 3,
     "metadata": {},
     "output_type": "execute_result"
    }
   ],
   "source": [
    "dr.hour"
   ]
  },
  {
   "cell_type": "code",
   "execution_count": 4,
   "id": "402c2d18-a695-4c3c-a90a-25dbc56a31ef",
   "metadata": {},
   "outputs": [],
   "source": [
    "#help(pd.date_range)"
   ]
  },
  {
   "cell_type": "code",
   "execution_count": 5,
   "id": "5aad210f-f083-4f44-adde-902e5ee45ac4",
   "metadata": {},
   "outputs": [
    {
     "data": {
      "text/plain": [
       "Int64Index([ 0,  1,  2,  3,  4,  5,  6,  7,  8,  9, 10, 11, 12, 13, 14, 15, 16,\n",
       "            17, 18, 19, 20, 21, 22, 23,  0,  1,  2,  3,  4,  5,  6,  7,  8,  9,\n",
       "            10, 11, 12, 13, 14, 15, 16, 17, 18, 19, 20, 21, 22, 23,  0],\n",
       "           dtype='int64')"
      ]
     },
     "execution_count": 5,
     "metadata": {},
     "output_type": "execute_result"
    }
   ],
   "source": [
    "#t = np.arange(0.,24.000001,0.5)\n",
    "t = dr.hour\n",
    "t"
   ]
  },
  {
   "cell_type": "markdown",
   "id": "9a049908-4a76-415f-8ae6-7b2d65787814",
   "metadata": {},
   "source": [
    "## Exercise: Increase the temporal resolution of the date range.\n",
    "\n",
    "Replace argument `freq=\"h\"` with `periods=1000`. \n",
    "\n",
    "Calculate fractional hours (float) from `dr.hour`, `dr.minute`, `dr.second`\n",
    "\n",
    "`th = dr.hour + ...`"
   ]
  },
  {
   "cell_type": "code",
   "execution_count": 6,
   "id": "27b53319-b408-4bcd-87e6-bcfe50734f70",
   "metadata": {},
   "outputs": [],
   "source": [
    "# your code\n",
    "# t = dr.hour + ..."
   ]
  },
  {
   "cell_type": "markdown",
   "id": "ccbdff52-3cf0-4fcb-98bf-53c7a9617bfe",
   "metadata": {},
   "source": [
    "## Generate your own time series."
   ]
  },
  {
   "cell_type": "markdown",
   "id": "28ee2aad-20a3-4b97-887c-2a6c563826b2",
   "metadata": {},
   "source": [
    "**Function to create sinusoidal time series**"
   ]
  },
  {
   "cell_type": "markdown",
   "id": "302c82e9-6b85-4dcc-8fa6-af0fd31a9241",
   "metadata": {},
   "source": [
    "$$\n",
    "p(t,A,A_0,T,\\Delta t) = A\\sin(\\frac{2\\pi}{T}(t-\\Delta t))+A_0\n",
    "$$"
   ]
  },
  {
   "cell_type": "code",
   "execution_count": 7,
   "id": "71f24c76-dd2b-4969-a2c2-149af5feb8dc",
   "metadata": {},
   "outputs": [],
   "source": [
    "def p(t, A=1., A0=0., T=24., Dt=0.):\n",
    "    return A*np.sin(2*np.pi/T*(t-Dt))+A0"
   ]
  },
  {
   "cell_type": "markdown",
   "id": "bdb29a0d-fb0b-4fb8-9668-bf0fc295e074",
   "metadata": {},
   "source": [
    "**Create time series with different phases (time shift)**"
   ]
  },
  {
   "cell_type": "code",
   "execution_count": 8,
   "id": "32df582d-a310-4b0b-a5ca-feb691506a6a",
   "metadata": {},
   "outputs": [
    {
     "ename": "NameError",
     "evalue": "name 'A0a' is not defined",
     "output_type": "error",
     "traceback": [
      "\u001b[1;31m---------------------------------------------------------------------------\u001b[0m",
      "\u001b[1;31mNameError\u001b[0m                                 Traceback (most recent call last)",
      "Cell \u001b[1;32mIn [8], line 4\u001b[0m\n\u001b[0;32m      2\u001b[0m p01 \u001b[38;5;241m=\u001b[39m p(t, A0\u001b[38;5;241m=\u001b[39mA0)\n\u001b[0;32m      3\u001b[0m p02 \u001b[38;5;241m=\u001b[39m p(t, Dt\u001b[38;5;241m=\u001b[39m\u001b[38;5;241m3.\u001b[39m, A0\u001b[38;5;241m=\u001b[39mA0)\n\u001b[1;32m----> 4\u001b[0m p03 \u001b[38;5;241m=\u001b[39m p(t, Dt\u001b[38;5;241m=\u001b[39m\u001b[38;5;241m6.\u001b[39m, A0\u001b[38;5;241m=\u001b[39mA0a)\n\u001b[0;32m      5\u001b[0m p04 \u001b[38;5;241m=\u001b[39m p(t, Dt\u001b[38;5;241m=\u001b[39m\u001b[38;5;241m9.\u001b[39m, A0\u001b[38;5;241m=\u001b[39mA0)\n\u001b[0;32m      6\u001b[0m p05 \u001b[38;5;241m=\u001b[39m p(t, Dt\u001b[38;5;241m=\u001b[39m\u001b[38;5;241m12.\u001b[39m, A0\u001b[38;5;241m=\u001b[39mA0)\n",
      "\u001b[1;31mNameError\u001b[0m: name 'A0a' is not defined"
     ]
    }
   ],
   "source": [
    "A0=1.\n",
    "p01 = p(t, A0=A0)\n",
    "p02 = p(t, Dt=3., A0=A0)\n",
    "p03 = p(t, Dt=6., A0=A0)\n",
    "p04 = p(t, Dt=9., A0=A0)\n",
    "p05 = p(t, Dt=12., A0=A0)\n",
    "p06 = p(t, Dt=15., A0=A0)\n",
    "p07 = p(t, Dt=18., A0=A0)\n",
    "p08 = p(t, Dt=21., A0=A0)\n",
    "#p09 = p(t, Dt=24., A0=A0)"
   ]
  },
  {
   "cell_type": "code",
   "execution_count": null,
   "id": "f81e7540-1839-40a4-9394-43dfea831441",
   "metadata": {},
   "outputs": [],
   "source": [
    "fig1, ax1 = plt.subplots(figsize=(12,4), dpi=136)\n",
    "ax1.plot(dr,p01)\n",
    "ax1.plot(dr,p02)\n",
    "ax1.grid(True)\n",
    "plt.show()"
   ]
  },
  {
   "cell_type": "markdown",
   "id": "164a15aa-f677-484e-981c-193402efe067",
   "metadata": {},
   "source": [
    "**Combine all series in a \"wide\" dataframe. Start with `dict()`.** "
   ]
  },
  {
   "cell_type": "code",
   "execution_count": null,
   "id": "7ef424cd-3330-48fc-8fc6-cc1c7cae7c7b",
   "metadata": {},
   "outputs": [],
   "source": [
    "data_dict = {\n",
    "    \"S01\" : p01, \n",
    "    \"S02\" : p02,\n",
    "    \"S03\" : p03,\n",
    "    \"S04\" : p04,\n",
    "    \"S05\" : p05,\n",
    "    \"S06\" : p06,\n",
    "    \"S07\" : p07,\n",
    "    \"S08\" : p08\n",
    "}"
   ]
  },
  {
   "cell_type": "code",
   "execution_count": null,
   "id": "6f80f1bb-ea0f-4fcb-8bdb-c32c4615f9dc",
   "metadata": {},
   "outputs": [],
   "source": [
    "df = pd.DataFrame.from_dict(data_dict)"
   ]
  },
  {
   "cell_type": "code",
   "execution_count": null,
   "id": "1ef0d1cf-6dee-425f-a75a-0bab66295416",
   "metadata": {},
   "outputs": [],
   "source": [
    "df.set_index(dr, inplace=True)"
   ]
  },
  {
   "cell_type": "code",
   "execution_count": null,
   "id": "db4869bf-bf97-43af-a424-3903d5c5a5ba",
   "metadata": {},
   "outputs": [],
   "source": [
    "df.head()"
   ]
  },
  {
   "cell_type": "code",
   "execution_count": null,
   "id": "9c29c150-6679-4eeb-b4e0-63768fa27693",
   "metadata": {},
   "outputs": [],
   "source": [
    "fig2, ax2 = plt.subplots(figsize=(12,4), dpi=136)\n",
    "df.plot(ax=ax2)\n",
    "plt.show()"
   ]
  },
  {
   "cell_type": "code",
   "execution_count": null,
   "id": "b5a19d46-281b-4199-937a-f587b759bcfd",
   "metadata": {},
   "outputs": [],
   "source": [
    "type(df[\"S01\"])"
   ]
  },
  {
   "cell_type": "code",
   "execution_count": null,
   "id": "b09a26d3-6d9c-4f6c-a567-ade9232783e0",
   "metadata": {},
   "outputs": [],
   "source": [
    "df.columns"
   ]
  },
  {
   "cell_type": "markdown",
   "id": "0bc069ce-a067-4975-9209-7aa6bc0d22d9",
   "metadata": {},
   "source": [
    "**Select all series and print one after the other.**"
   ]
  },
  {
   "cell_type": "code",
   "execution_count": null,
   "id": "fb283e6e-31dc-4eb5-8321-c9b9353189e2",
   "metadata": {},
   "outputs": [],
   "source": [
    "for sid in df.columns:\n",
    "    df_tmp = pd.DataFrame(df[sid])\n",
    "    df_tmp[\"sid\"]=sid\n",
    "    df_tmp.rename(columns={sid:\"val\"},inplace=True)\n",
    "    print(df_tmp.head())"
   ]
  },
  {
   "cell_type": "code",
   "execution_count": null,
   "id": "527af1c7-386e-461a-9865-ec0b0589a71f",
   "metadata": {},
   "outputs": [],
   "source": [
    "#df_tmp"
   ]
  },
  {
   "cell_type": "markdown",
   "id": "0b2a6041-0768-417d-b98e-6f8464f507ee",
   "metadata": {},
   "source": [
    "## Exercise: Concatenate all series in a persistent \"long\" dataframe."
   ]
  },
  {
   "cell_type": "code",
   "execution_count": null,
   "id": "66e0d2d6-3fc4-4f8e-8aa5-836da5abba85",
   "metadata": {},
   "outputs": [],
   "source": []
  },
  {
   "cell_type": "markdown",
   "id": "8b373c58-87ac-40f8-9d7e-15f594e409c3",
   "metadata": {},
   "source": [
    "**Save `df_long` to `./data/ts_sin.csv`.**"
   ]
  },
  {
   "cell_type": "code",
   "execution_count": null,
   "id": "ad032982-f8f8-4930-809b-6c365b24906e",
   "metadata": {},
   "outputs": [],
   "source": [
    "#df_long.to_csv(\"./data/ts_sin.csv\")"
   ]
  },
  {
   "cell_type": "code",
   "execution_count": null,
   "id": "363cb3dd-bc14-48c6-9ee1-571f0a5f4045",
   "metadata": {},
   "outputs": [],
   "source": []
  }
 ],
 "metadata": {
  "kernelspec": {
   "display_name": "Python 3 (ipykernel)",
   "language": "python",
   "name": "python3"
  },
  "language_info": {
   "codemirror_mode": {
    "name": "ipython",
    "version": 3
   },
   "file_extension": ".py",
   "mimetype": "text/x-python",
   "name": "python",
   "nbconvert_exporter": "python",
   "pygments_lexer": "ipython3",
   "version": "3.10.6"
  }
 },
 "nbformat": 4,
 "nbformat_minor": 5
}
